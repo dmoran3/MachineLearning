{
 "cells": [
  {
   "cell_type": "code",
   "execution_count": 20,
   "id": "e5a6725b",
   "metadata": {},
   "outputs": [
    {
     "name": "stdout",
     "output_type": "stream",
     "text": [
      "me = {'id': 'i9ATG2v6vTso7iQe1RfnNErIzv6oHemUSn8EEbAlhdeOp-Q', 'accountId': 'KLbDr7WrwSpS01JimRBlt_JkF6464n7XDzcafpBxFpJ97g', 'puuid': 'YvTViI0Eg1qN17qF-H2dODu3KwI1NgVb06-VmaHbnIjDTOgKNxKq8ViVwZnINYZp24WEGwUTnam_6Q', 'name': 'satorian', 'profileIconId': 1629, 'revisionDate': 1637292215000, 'summonerLevel': 131}\n",
      "versions =  {'n': {'item': '11.23.1', 'rune': '7.23.1', 'mastery': '7.23.1', 'summoner': '11.23.1', 'champion': '11.23.1', 'profileicon': '11.23.1', 'map': '11.23.1', 'language': '11.23.1', 'sticker': '11.23.1'}, 'v': '11.23.1', 'l': 'en_US', 'cdn': 'https://ddragon.leagueoflegends.com/cdn', 'dd': '11.23.1', 'lg': '11.23.1', 'css': '11.23.1', 'profileiconmax': 28, 'store': None}\n",
      "HERE1\n",
      "HERE1\n",
      "HERE1\n",
      "HERE1\n",
      "HERE1\n",
      "HERE1\n",
      "HERE1\n",
      "HERE1\n",
      "HERE1\n",
      "HERE1\n",
      "   Total Damage  Gold  Victory\n",
      "0           0.0   0.0      0.0\n",
      "1           0.0   0.0      0.0\n",
      "2           0.0   0.0      0.0\n",
      "3           0.0   0.0      0.0\n",
      "4           0.0   0.0      0.0\n",
      "5           0.0   0.0      0.0\n",
      "6           0.0   0.0      0.0\n",
      "7           0.0   0.0      0.0\n",
      "8           0.0   0.0      0.0\n",
      "9           0.0   0.0      0.0\n"
     ]
    },
    {
     "name": "stderr",
     "output_type": "stream",
     "text": [
      "/Users/danielmoran/opt/anaconda3/lib/python3.8/site-packages/seaborn/distributions.py:306: UserWarning: Dataset has 0 variance; skipping density estimate.\n",
      "  warnings.warn(msg, UserWarning)\n",
      "/Users/danielmoran/opt/anaconda3/lib/python3.8/site-packages/seaborn/distributions.py:306: UserWarning: Dataset has 0 variance; skipping density estimate.\n",
      "  warnings.warn(msg, UserWarning)\n",
      "/Users/danielmoran/opt/anaconda3/lib/python3.8/site-packages/seaborn/distributions.py:306: UserWarning: Dataset has 0 variance; skipping density estimate.\n",
      "  warnings.warn(msg, UserWarning)\n"
     ]
    },
    {
     "data": {
      "text/plain": [
       "<seaborn.axisgrid.PairGrid at 0x7fbcb34a8970>"
      ]
     },
     "execution_count": 20,
     "metadata": {},
     "output_type": "execute_result"
    },
    {
     "data": {
      "image/png": "[encoded data removed]",
      "text/plain": [
       "<Figure size 540x540 with 12 Axes>"
      ]
     },
     "metadata": {
      "needs_background": "light"
     },
     "output_type": "display_data"
    }
   ],
   "source": [
    "from riotwatcher import LolWatcher, ApiError\n",
    "import numpy as np\n",
    "import matplotlib.pyplot as plt\n",
    "import pathlib\n",
    "import pandas as pd\n",
    "import seaborn as sns\n",
    "import tensorflow as tf\n",
    "import time\n",
    "from tensorflow import keras\n",
    "from tensorflow.keras import layers\n",
    "import tensorflow_docs as tfdocs\n",
    "import tensorflow_docs.plots\n",
    "import tensorflow_docs.modeling\n",
    "\n",
    "lw = LolWatcher('RGAPI-6dc124f7-2312-4f76-95ce-6a4e555503b4')\n",
    "\n",
    "my_region = 'na1'\n",
    "\n",
    "\n",
    "me = lw.summoner.by_name(my_region, 'satorian')\n",
    "print('me =', me)\n",
    "\n",
    "# all objects are returned (by default) as a dict\n",
    "my_ranked_stats = lw.league.by_summoner(my_region, me['id'])\n",
    "\n",
    "# First we get the latest version of the game from data dragon\n",
    "versions = lw.data_dragon.versions_for_region(my_region)\n",
    "print('versions = ', versions)\n",
    "my_matches = lw.match.matchlist_by_puuid('americas', me['puuid'])\n",
    "\n",
    "\n",
    "#print(lw.match.by_id('americas', 'NA1_4106194150'))\n",
    "\n",
    "n_games = 10\n",
    "Games = {}\n",
    "Game_duration=np.zeros(n_games)\n",
    "Damage = np.zeros(n_games)\n",
    "Gold = np.zeros(n_games)\n",
    "Victory = np.zeros(n_games)\n",
    "j=0\n",
    "count=0\n",
    "while count<n_games:\n",
    "    try:\n",
    "        print(\"HERE1\")\n",
    "        last_match = my_matches['matches'][count]\n",
    "        print(\"HERE2\")\n",
    "        match_detail = lol_watcher.match.by_id(my_region, last_match['gameId'])\n",
    "        participants = []\n",
    "        \n",
    "        for row in match_detail['participants']:\n",
    "            participants_row = {}\n",
    "            participants_row['champion'] = row['championId']\n",
    "            participants_row['win'] = row['stats']['win']\n",
    "            participants_row['assists'] = row['stats']['assists']\n",
    "            ( ... )\n",
    "            participants.append(participants_row)\n",
    "            Games[j] = pd.DataFrame(participants)\n",
    "            champ_dict = {}\n",
    "        print(\"HERE3\")\n",
    "        for key in static_champ_list['data']: \n",
    "            row = static_champ_list['data'][key] \n",
    "            champ_dict[row['key']] = row['id']\n",
    "            summoners_dict = {}\n",
    "        for key in static_summoners_list['data']:\n",
    "            row = static_summoners_list['data'][key]\n",
    "            summoners_dict[row['key']] = row['id']\n",
    "            Summoner_name = []\n",
    "        for row in match_detail['participantIdentities']:\n",
    "            Summoner_name_row = {}\n",
    "            Summoner_name_row=row['player']['summonerName']\n",
    "            Summoner_name.append(Summoner_name_row)\n",
    "        i=0\n",
    "        for row in participants:\n",
    "            row['championName'] = champ_dict[str(row['champion'])]\n",
    "            row['Summoner_name']=Summoner_name[i]\n",
    "            row['Summoner Spell 1']=summoners_dict[str(row['spell1'])]\n",
    "            row['Summoner Spell 2']=summoners_dict[str(row['spell2'])]\n",
    "            i+=1\n",
    "        \n",
    "        Games[j]= pd.DataFrame(participants)\n",
    "        for index, row in Games[j].iterrows():\n",
    "            print(\"HERE\")\n",
    "            if row['Summoner_name']=='satorian':\n",
    "                Damage[j]=row['totalDamageDealt']\n",
    "                Gold[j]=row['goldEarned']\n",
    "                Victory[j]=row['victory']\n",
    "                print(Damage[j], Gold[j], Victory[j])\n",
    "        time.sleep(10)\n",
    "        j+=1\n",
    "        count+=1\n",
    "    except:\n",
    "        count+=1\n",
    "        \n",
    "dataset= pd.DataFrame()\n",
    "dataset['Total Damage']= Damage\n",
    "dataset['Gold']= Gold\n",
    "dataset['Victory']=Victory #Boolean\n",
    "print(dataset)\n",
    "train_dataset_raw = dataset.sample(frac=0.8,random_state=0)\n",
    "test_dataset_raw = dataset.drop(train_dataset_raw.index)\n",
    "train_dataset=train_dataset_raw.iloc[:,range(0,2)]\n",
    "test_dataset=test_dataset_raw.iloc[:,range(0,2)]\n",
    "train_labels=train_dataset_raw.iloc[:,2]\n",
    "test_labels=test_dataset_raw.iloc[:,2]\n",
    "\n",
    "sns.pairplot(train_dataset_raw, diag_kind=\"kde\")"
   ]
  },
  {
   "cell_type": "code",
   "execution_count": null,
   "id": "133231db",
   "metadata": {},
   "outputs": [],
   "source": []
  }
 ],
 "metadata": {
  "kernelspec": {
   "display_name": "Python 3",
   "language": "python",
   "name": "python3"
  },
  "language_info": {
   "codemirror_mode": {
    "name": "ipython",
    "version": 3
   },
   "file_extension": ".py",
   "mimetype": "text/x-python",
   "name": "python",
   "nbconvert_exporter": "python",
   "pygments_lexer": "ipython3",
   "version": "3.8.8"
  }
 },
 "nbformat": 4,
 "nbformat_minor": 5
}
