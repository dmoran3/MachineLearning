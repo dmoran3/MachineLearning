{
 "cells": [
  {
   "cell_type": "code",
   "execution_count": 98,
   "id": "e5a6725b",
   "metadata": {
    "scrolled": false
   },
   "outputs": [
    {
     "name": "stdout",
     "output_type": "stream",
     "text": [
      "/Users/danielmoran/Documents/School/ML/MLProject_2021/Dataset/05 Dec, 2021\n"
     ]
    },
    {
     "ename": "HTTPError",
     "evalue": "403 Client Error: Forbidden for url: https://na1.api.riotgames.com/lol/summoner/v4/summoners/by-name/GrandfatherFlesh",
     "output_type": "error",
     "traceback": [
      "\u001b[0;31m---------------------------------------------------------------------------\u001b[0m",
      "\u001b[0;31mHTTPError\u001b[0m                                 Traceback (most recent call last)",
      "\u001b[0;32m~/opt/anaconda3/lib/python3.8/site-packages/riotwatcher/Handlers/ThrowOnErrorHandler.py\u001b[0m in \u001b[0;36mafter_request\u001b[0;34m(self, region, endpoint_name, method_name, url, response)\u001b[0m\n\u001b[1;32m     17\u001b[0m         \u001b[0;32mtry\u001b[0m\u001b[0;34m:\u001b[0m\u001b[0;34m\u001b[0m\u001b[0;34m\u001b[0m\u001b[0m\n\u001b[0;32m---> 18\u001b[0;31m             \u001b[0mresponse\u001b[0m\u001b[0;34m.\u001b[0m\u001b[0mraise_for_status\u001b[0m\u001b[0;34m(\u001b[0m\u001b[0;34m)\u001b[0m\u001b[0;34m\u001b[0m\u001b[0;34m\u001b[0m\u001b[0m\n\u001b[0m\u001b[1;32m     19\u001b[0m         \u001b[0;32mexcept\u001b[0m \u001b[0mrequests\u001b[0m\u001b[0;34m.\u001b[0m\u001b[0mHTTPError\u001b[0m \u001b[0;32mas\u001b[0m \u001b[0merr\u001b[0m\u001b[0;34m:\u001b[0m\u001b[0;34m\u001b[0m\u001b[0;34m\u001b[0m\u001b[0m\n",
      "\u001b[0;32m~/opt/anaconda3/lib/python3.8/site-packages/requests/models.py\u001b[0m in \u001b[0;36mraise_for_status\u001b[0;34m(self)\u001b[0m\n\u001b[1;32m    942\u001b[0m         \u001b[0;32mif\u001b[0m \u001b[0mhttp_error_msg\u001b[0m\u001b[0;34m:\u001b[0m\u001b[0;34m\u001b[0m\u001b[0;34m\u001b[0m\u001b[0m\n\u001b[0;32m--> 943\u001b[0;31m             \u001b[0;32mraise\u001b[0m \u001b[0mHTTPError\u001b[0m\u001b[0;34m(\u001b[0m\u001b[0mhttp_error_msg\u001b[0m\u001b[0;34m,\u001b[0m \u001b[0mresponse\u001b[0m\u001b[0;34m=\u001b[0m\u001b[0mself\u001b[0m\u001b[0;34m)\u001b[0m\u001b[0;34m\u001b[0m\u001b[0;34m\u001b[0m\u001b[0m\n\u001b[0m\u001b[1;32m    944\u001b[0m \u001b[0;34m\u001b[0m\u001b[0m\n",
      "\u001b[0;31mHTTPError\u001b[0m: 403 Client Error: Forbidden for url: https://na1.api.riotgames.com/lol/summoner/v4/summoners/by-name/GrandfatherFlesh",
      "\nDuring handling of the above exception, another exception occurred:\n",
      "\u001b[0;31mHTTPError\u001b[0m                                 Traceback (most recent call last)",
      "\u001b[0;32m<ipython-input-98-7e2f4a30ac0a>\u001b[0m in \u001b[0;36m<module>\u001b[0;34m\u001b[0m\n\u001b[1;32m     29\u001b[0m \u001b[0;34m\u001b[0m\u001b[0m\n\u001b[1;32m     30\u001b[0m \u001b[0;32mfor\u001b[0m \u001b[0msumm\u001b[0m \u001b[0;32min\u001b[0m \u001b[0msumm_list\u001b[0m\u001b[0;34m:\u001b[0m\u001b[0;34m\u001b[0m\u001b[0;34m\u001b[0m\u001b[0m\n\u001b[0;32m---> 31\u001b[0;31m     \u001b[0mme\u001b[0m \u001b[0;34m=\u001b[0m \u001b[0mlw\u001b[0m\u001b[0;34m.\u001b[0m\u001b[0msummoner\u001b[0m\u001b[0;34m.\u001b[0m\u001b[0mby_name\u001b[0m\u001b[0;34m(\u001b[0m\u001b[0;34m'na1'\u001b[0m\u001b[0;34m,\u001b[0m \u001b[0msumm\u001b[0m\u001b[0;34m)\u001b[0m\u001b[0;34m\u001b[0m\u001b[0;34m\u001b[0m\u001b[0m\n\u001b[0m\u001b[1;32m     32\u001b[0m \u001b[0;34m\u001b[0m\u001b[0m\n\u001b[1;32m     33\u001b[0m     \u001b[0moffset\u001b[0m \u001b[0;34m=\u001b[0m \u001b[0;36m0\u001b[0m\u001b[0;34m\u001b[0m\u001b[0;34m\u001b[0m\u001b[0m\n",
      "\u001b[0;32m~/opt/anaconda3/lib/python3.8/site-packages/riotwatcher/_apis/league_of_legends/SummonerApiV4.py\u001b[0m in \u001b[0;36mby_name\u001b[0;34m(self, region, summoner_name)\u001b[0m\n\u001b[1;32m     43\u001b[0m         \u001b[0;34m:\u001b[0m\u001b[0mreturns\u001b[0m\u001b[0;34m:\u001b[0m \u001b[0mSummonerDTO\u001b[0m\u001b[0;34m:\u001b[0m \u001b[0mrepresents\u001b[0m \u001b[0ma\u001b[0m \u001b[0msummoner\u001b[0m\u001b[0;34m\u001b[0m\u001b[0;34m\u001b[0m\u001b[0m\n\u001b[1;32m     44\u001b[0m         \"\"\"\n\u001b[0;32m---> 45\u001b[0;31m         return self._request_endpoint(\n\u001b[0m\u001b[1;32m     46\u001b[0m             \u001b[0mself\u001b[0m\u001b[0;34m.\u001b[0m\u001b[0mby_name\u001b[0m\u001b[0;34m.\u001b[0m\u001b[0m__name__\u001b[0m\u001b[0;34m,\u001b[0m\u001b[0;34m\u001b[0m\u001b[0;34m\u001b[0m\u001b[0m\n\u001b[1;32m     47\u001b[0m             \u001b[0mregion\u001b[0m\u001b[0;34m,\u001b[0m\u001b[0;34m\u001b[0m\u001b[0;34m\u001b[0m\u001b[0m\n",
      "\u001b[0;32m~/opt/anaconda3/lib/python3.8/site-packages/riotwatcher/_apis/NamedEndpoint.py\u001b[0m in \u001b[0;36m_request_endpoint\u001b[0;34m(self, method_name, region, endpoint, **kwargs)\u001b[0m\n\u001b[1;32m     33\u001b[0m         \"\"\"\n\u001b[1;32m     34\u001b[0m         \u001b[0murl\u001b[0m\u001b[0;34m,\u001b[0m \u001b[0mquery\u001b[0m \u001b[0;34m=\u001b[0m \u001b[0mendpoint\u001b[0m\u001b[0;34m(\u001b[0m\u001b[0mplatform\u001b[0m\u001b[0;34m=\u001b[0m\u001b[0mregion\u001b[0m\u001b[0;34m,\u001b[0m \u001b[0;34m**\u001b[0m\u001b[0mkwargs\u001b[0m\u001b[0;34m)\u001b[0m\u001b[0;34m\u001b[0m\u001b[0;34m\u001b[0m\u001b[0m\n\u001b[0;32m---> 35\u001b[0;31m         return self._base_api.raw_request(\n\u001b[0m\u001b[1;32m     36\u001b[0m             \u001b[0mself\u001b[0m\u001b[0;34m.\u001b[0m\u001b[0m_endpoint_name\u001b[0m\u001b[0;34m,\u001b[0m \u001b[0mmethod_name\u001b[0m\u001b[0;34m,\u001b[0m \u001b[0mregion\u001b[0m\u001b[0;34m,\u001b[0m \u001b[0murl\u001b[0m\u001b[0;34m,\u001b[0m \u001b[0mquery\u001b[0m\u001b[0;34m\u001b[0m\u001b[0;34m\u001b[0m\u001b[0m\n\u001b[1;32m     37\u001b[0m         )\n",
      "\u001b[0;32m~/opt/anaconda3/lib/python3.8/site-packages/riotwatcher/_apis/BaseApi.py\u001b[0m in \u001b[0;36mraw_request\u001b[0;34m(self, endpoint_name, method_name, region, url, query_params)\u001b[0m\n\u001b[1;32m     49\u001b[0m         \u001b[0;32mif\u001b[0m \u001b[0mself\u001b[0m\u001b[0;34m.\u001b[0m\u001b[0m_request_handlers\u001b[0m \u001b[0;32mis\u001b[0m \u001b[0;32mnot\u001b[0m \u001b[0;32mNone\u001b[0m\u001b[0;34m:\u001b[0m\u001b[0;34m\u001b[0m\u001b[0;34m\u001b[0m\u001b[0m\n\u001b[1;32m     50\u001b[0m             \u001b[0;32mfor\u001b[0m \u001b[0mhandler\u001b[0m \u001b[0;32min\u001b[0m \u001b[0mself\u001b[0m\u001b[0;34m.\u001b[0m\u001b[0m_request_handlers\u001b[0m\u001b[0;34m[\u001b[0m\u001b[0mearly_ret_idx\u001b[0m\u001b[0;34m:\u001b[0m\u001b[0;32mNone\u001b[0m\u001b[0;34m:\u001b[0m\u001b[0;34m-\u001b[0m\u001b[0;36m1\u001b[0m\u001b[0;34m]\u001b[0m\u001b[0;34m:\u001b[0m\u001b[0;34m\u001b[0m\u001b[0;34m\u001b[0m\u001b[0m\n\u001b[0;32m---> 51\u001b[0;31m                 mod = handler.after_request(\n\u001b[0m\u001b[1;32m     52\u001b[0m                     \u001b[0mregion\u001b[0m\u001b[0;34m,\u001b[0m \u001b[0mendpoint_name\u001b[0m\u001b[0;34m,\u001b[0m \u001b[0mmethod_name\u001b[0m\u001b[0;34m,\u001b[0m \u001b[0murl\u001b[0m\u001b[0;34m,\u001b[0m \u001b[0mresponse\u001b[0m\u001b[0;34m\u001b[0m\u001b[0;34m\u001b[0m\u001b[0m\n\u001b[1;32m     53\u001b[0m                 )\n",
      "\u001b[0;32m~/opt/anaconda3/lib/python3.8/site-packages/riotwatcher/Handlers/ThrowOnErrorHandler.py\u001b[0m in \u001b[0;36mafter_request\u001b[0;34m(self, region, endpoint_name, method_name, url, response)\u001b[0m\n\u001b[1;32m     18\u001b[0m             \u001b[0mresponse\u001b[0m\u001b[0;34m.\u001b[0m\u001b[0mraise_for_status\u001b[0m\u001b[0;34m(\u001b[0m\u001b[0;34m)\u001b[0m\u001b[0;34m\u001b[0m\u001b[0;34m\u001b[0m\u001b[0m\n\u001b[1;32m     19\u001b[0m         \u001b[0;32mexcept\u001b[0m \u001b[0mrequests\u001b[0m\u001b[0;34m.\u001b[0m\u001b[0mHTTPError\u001b[0m \u001b[0;32mas\u001b[0m \u001b[0merr\u001b[0m\u001b[0;34m:\u001b[0m\u001b[0;34m\u001b[0m\u001b[0;34m\u001b[0m\u001b[0m\n\u001b[0;32m---> 20\u001b[0;31m             \u001b[0;32mraise\u001b[0m \u001b[0mApiError\u001b[0m\u001b[0;34m(\u001b[0m\u001b[0;34m*\u001b[0m\u001b[0merr\u001b[0m\u001b[0;34m.\u001b[0m\u001b[0margs\u001b[0m\u001b[0;34m,\u001b[0m \u001b[0mrequest\u001b[0m\u001b[0;34m=\u001b[0m\u001b[0merr\u001b[0m\u001b[0;34m.\u001b[0m\u001b[0mrequest\u001b[0m\u001b[0;34m,\u001b[0m \u001b[0mresponse\u001b[0m\u001b[0;34m=\u001b[0m\u001b[0merr\u001b[0m\u001b[0;34m.\u001b[0m\u001b[0mresponse\u001b[0m\u001b[0;34m)\u001b[0m\u001b[0;34m\u001b[0m\u001b[0;34m\u001b[0m\u001b[0m\n\u001b[0m",
      "\u001b[0;31mHTTPError\u001b[0m: 403 Client Error: Forbidden for url: https://na1.api.riotgames.com/lol/summoner/v4/summoners/by-name/GrandfatherFlesh"
     ]
    }
   ],
   "source": [
    "from riotwatcher import LolWatcher, ApiError\n",
    "import numpy as np\n",
    "import matplotlib.pyplot as plt\n",
    "import pathlib\n",
    "import pandas as pd\n",
    "import seaborn as sns\n",
    "import tensorflow as tf\n",
    "import time\n",
    "from datetime import datetime\n",
    "import json\n",
    "\n",
    "# current date\n",
    "now = datetime.now()\n",
    "\n",
    "date = now.strftime(\"%d %b, %Y\")\n",
    "\n",
    "lw = LolWatcher('RGAPI-0bb964a5-de77-4126-93cb-dbb50ea64a0f')\n",
    "\n",
    "summ_list = [\n",
    "    'GrandfatherFlesh','satorian','Superpen1sball',\n",
    "    '36CYOB','Rumahoy','Tobias Fate','SoloRenektonOnly',\n",
    "    'shaanathan','be pure','Mistress Lolly','Falcon1124',\n",
    "    'TFBlade2','Isles','Tempos Time','The Tank Man']\n",
    "\n",
    "my_region = 'americas'\n",
    "filePath = \"/Users/danielmoran/Documents/School/ML/MLProject_2021/Dataset/\" + date\n",
    "print(filePath)\n",
    "Games=[]\n",
    "\n",
    "for summ in summ_list:\n",
    "    me = lw.summoner.by_name('na1', summ)\n",
    "    \n",
    "    offset = 0\n",
    "    #0 - 12/5\n",
    "    #1000 - 12/6\n",
    "    #2000 - 12/7\n",
    "    print(summ)\n",
    "    my_matches = lw.match.matchlist_by_puuid('americas', me['puuid'], start = offset, type=\"normal\", count = 100)\n",
    "    my_matches += lw.match.matchlist_by_puuid('americas', me['puuid'], start = offset, type=\"ranked\", count = 100)\n",
    "    for i in range (1,10):\n",
    "        my_matches += lw.match.matchlist_by_puuid('americas', me['puuid'], type=\"normal\", start = (i*100+offset), count = 100)\n",
    "        my_matches += lw.match.matchlist_by_puuid('americas', me['puuid'], type=\"ranked\", start = (i*100+offset), count = 100)\n",
    "        \n",
    "    n_games = 1000\n",
    "    j=0\n",
    "    count=0\n",
    "    while count < n_games:\n",
    "        try:\n",
    "            time.sleep(1)\n",
    "            last_match = my_matches[count]\n",
    "            count+=1\n",
    "            #print(last_match)\n",
    "            game_info = lw.match.by_id(my_region, last_match)\n",
    "            winner = game_info['info']['teams'][0]['win']\n",
    "            #print(winner)\n",
    "            #print(\"goldP1 : \\n\", lw.match.timeline_by_match(my_region, last_match)['info']['frames'][-1]['participantFrames']['1']['totalGold'])\n",
    "            data = lw.match.timeline_by_match(my_region, last_match)['info']['frames']\n",
    "            for event in data:\n",
    "                #print(type(event),'\\n',type(event.items()),event.items())\n",
    "                if \"participantFrames\" in event:\n",
    "                    #print('\\n\\n\\n',\"EVENT : \",type(event),'\\n',event)\n",
    "                    #print('\\n\\n\\n',\"TS : \",event['timestamp'])\n",
    "                    if event['timestamp'] <= 900000:\n",
    "                        selection = event\n",
    "                    if event['timestamp'] > 900000:\n",
    "                        if abs(selection['timestamp']-900000) > abs(event['timestamp']-900000):\n",
    "                            selection = event\n",
    "                            break\n",
    "                        else:\n",
    "                            break\n",
    "            event_data = [selection['participantFrames'], selection['timestamp']]\n",
    "            #print(json.dumps(event_data, indent=2))\n",
    "\n",
    "            frame = event_data[0]\n",
    "            game = np.zeros(31)\n",
    "            i = 0\n",
    "\n",
    "            for player in range(1, 11):\n",
    "                game[i] = frame[str(player)]['damageStats']['totalDamageDoneToChampions']\n",
    "                i+=1\n",
    "                game[i] = frame[str(player)]['totalGold']\n",
    "                i+=1\n",
    "                game[i] = frame[str(player)]['xp']\n",
    "                i+=1\n",
    "            if winner == True:\n",
    "                game[i] = 1\n",
    "            else:\n",
    "                game[i] = 0\n",
    "\n",
    "            #print(game)\n",
    "            Games.append(game)\n",
    "        except:\n",
    "            count+=1\n",
    "\n",
    "dataset = pd.DataFrame(Games, columns = [\n",
    "                        'Player_1_Damage','Player_1_Gold','Player_1_XP',\n",
    "                        'Player_2_Damage','Player_2_Gold', 'Player_2_XP',\n",
    "                        'Player_3_Damage','Player_3_Gold', 'Player_3_XP',\n",
    "                        'Player_4_Damage','Player_4_Gold', 'Player_4_XP',\n",
    "                        'Player_5_Damage','Player_5_Gold', 'Player_5_XP',\n",
    "                        'Player_6_Damage','Player_6_Gold', 'Player_6_XP',\n",
    "                        'Player_7_Damage','Player_7_Gold', 'Player_7_XP',\n",
    "                        'Player_8_Damage','Player_8_Gold', 'Player_8_XP',\n",
    "                        'Player_9_Damage','Player_9_Gold', 'Player_9_XP',\n",
    "                        'Player_10_Damage','Player_10_Gold', 'Player_10_XP',\n",
    "                        'Victory'])\n",
    "\n",
    "dataset.head()\n",
    "\n",
    "dataset.to_csv(filePath)"
   ]
  },
  {
   "cell_type": "code",
   "execution_count": 97,
   "id": "e7b26fc8",
   "metadata": {},
   "outputs": [
    {
     "data": {
      "text/plain": [
       "(2884, 31)"
      ]
     },
     "execution_count": 97,
     "metadata": {},
     "output_type": "execute_result"
    }
   ],
   "source": [
    "dataset.head()"
   ]
  },
  {
   "cell_type": "code",
   "execution_count": null,
   "id": "84661afc",
   "metadata": {},
   "outputs": [],
   "source": []
  }
 ],
 "metadata": {
  "kernelspec": {
   "display_name": "Python 3",
   "language": "python",
   "name": "python3"
  },
  "language_info": {
   "codemirror_mode": {
    "name": "ipython",
    "version": 3
   },
   "file_extension": ".py",
   "mimetype": "text/x-python",
   "name": "python",
   "nbconvert_exporter": "python",
   "pygments_lexer": "ipython3",
   "version": "3.8.8"
  }
 },
 "nbformat": 4,
 "nbformat_minor": 5
}
